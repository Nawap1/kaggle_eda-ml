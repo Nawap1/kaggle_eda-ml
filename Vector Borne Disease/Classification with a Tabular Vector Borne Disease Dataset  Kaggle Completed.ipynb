{
 "cells": [
  {
   "cell_type": "markdown",
   "source": [
    "# Imports"
   ],
   "metadata": {
    "collapsed": false
   }
  },
  {
   "cell_type": "code",
   "execution_count": 2,
   "metadata": {
    "collapsed": true,
    "ExecuteTime": {
     "start_time": "2023-05-20T22:12:54.746498Z",
     "end_time": "2023-05-20T22:12:54.784497Z"
    }
   },
   "outputs": [],
   "source": [
    "import pandas as pd\n",
    "import matplotlib.pyplot as plt\n",
    "import numpy as np"
   ]
  },
  {
   "cell_type": "markdown",
   "source": [
    "# EDA"
   ],
   "metadata": {
    "collapsed": false
   }
  },
  {
   "cell_type": "code",
   "execution_count": 3,
   "outputs": [
    {
     "data": {
      "text/plain": "    sudden_fever  headache  mouth_bleed  nose_bleed  muscle_pain  joint_pain   \nid                                                                             \n0            1.0       1.0          0.0         1.0          1.0         1.0  \\\n1            0.0       0.0          0.0         0.0          0.0         0.0   \n2            0.0       1.0          1.0         1.0          0.0         1.0   \n3            0.0       0.0          1.0         1.0          1.0         1.0   \n4            0.0       0.0          0.0         0.0          0.0         0.0   \n\n    vomiting  rash  diarrhea  hypotension  ...  breathing_restriction   \nid                                         ...                          \n0        1.0   0.0       1.0          1.0  ...                    0.0  \\\n1        1.0   0.0       1.0          0.0  ...                    0.0   \n2        1.0   1.0       1.0          1.0  ...                    1.0   \n3        0.0   1.0       0.0          1.0  ...                    0.0   \n4        0.0   0.0       1.0          0.0  ...                    0.0   \n\n    toe_inflammation  finger_inflammation  lips_irritation  itchiness  ulcers   \nid                                                                              \n0                0.0                  0.0              0.0        0.0     0.0  \\\n1                0.0                  0.0              0.0        0.0     0.0   \n2                1.0                  1.0              1.0        1.0     0.0   \n3                0.0                  0.0              0.0        0.0     0.0   \n4                1.0                  0.0              0.0        1.0     1.0   \n\n    toenail_loss  speech_problem  bullseye_rash          prognosis  \nid                                                                  \n0            0.0             0.0            0.0       Lyme_disease  \n1            0.0             0.0            0.0          Tungiasis  \n2            1.0             1.0            1.0       Lyme_disease  \n3            0.0             0.0            0.0               Zika  \n4            1.0             0.0            0.0  Rift_Valley_fever  \n\n[5 rows x 65 columns]",
      "text/html": "<div>\n<style scoped>\n    .dataframe tbody tr th:only-of-type {\n        vertical-align: middle;\n    }\n\n    .dataframe tbody tr th {\n        vertical-align: top;\n    }\n\n    .dataframe thead th {\n        text-align: right;\n    }\n</style>\n<table border=\"1\" class=\"dataframe\">\n  <thead>\n    <tr style=\"text-align: right;\">\n      <th></th>\n      <th>sudden_fever</th>\n      <th>headache</th>\n      <th>mouth_bleed</th>\n      <th>nose_bleed</th>\n      <th>muscle_pain</th>\n      <th>joint_pain</th>\n      <th>vomiting</th>\n      <th>rash</th>\n      <th>diarrhea</th>\n      <th>hypotension</th>\n      <th>...</th>\n      <th>breathing_restriction</th>\n      <th>toe_inflammation</th>\n      <th>finger_inflammation</th>\n      <th>lips_irritation</th>\n      <th>itchiness</th>\n      <th>ulcers</th>\n      <th>toenail_loss</th>\n      <th>speech_problem</th>\n      <th>bullseye_rash</th>\n      <th>prognosis</th>\n    </tr>\n    <tr>\n      <th>id</th>\n      <th></th>\n      <th></th>\n      <th></th>\n      <th></th>\n      <th></th>\n      <th></th>\n      <th></th>\n      <th></th>\n      <th></th>\n      <th></th>\n      <th></th>\n      <th></th>\n      <th></th>\n      <th></th>\n      <th></th>\n      <th></th>\n      <th></th>\n      <th></th>\n      <th></th>\n      <th></th>\n      <th></th>\n    </tr>\n  </thead>\n  <tbody>\n    <tr>\n      <th>0</th>\n      <td>1.0</td>\n      <td>1.0</td>\n      <td>0.0</td>\n      <td>1.0</td>\n      <td>1.0</td>\n      <td>1.0</td>\n      <td>1.0</td>\n      <td>0.0</td>\n      <td>1.0</td>\n      <td>1.0</td>\n      <td>...</td>\n      <td>0.0</td>\n      <td>0.0</td>\n      <td>0.0</td>\n      <td>0.0</td>\n      <td>0.0</td>\n      <td>0.0</td>\n      <td>0.0</td>\n      <td>0.0</td>\n      <td>0.0</td>\n      <td>Lyme_disease</td>\n    </tr>\n    <tr>\n      <th>1</th>\n      <td>0.0</td>\n      <td>0.0</td>\n      <td>0.0</td>\n      <td>0.0</td>\n      <td>0.0</td>\n      <td>0.0</td>\n      <td>1.0</td>\n      <td>0.0</td>\n      <td>1.0</td>\n      <td>0.0</td>\n      <td>...</td>\n      <td>0.0</td>\n      <td>0.0</td>\n      <td>0.0</td>\n      <td>0.0</td>\n      <td>0.0</td>\n      <td>0.0</td>\n      <td>0.0</td>\n      <td>0.0</td>\n      <td>0.0</td>\n      <td>Tungiasis</td>\n    </tr>\n    <tr>\n      <th>2</th>\n      <td>0.0</td>\n      <td>1.0</td>\n      <td>1.0</td>\n      <td>1.0</td>\n      <td>0.0</td>\n      <td>1.0</td>\n      <td>1.0</td>\n      <td>1.0</td>\n      <td>1.0</td>\n      <td>1.0</td>\n      <td>...</td>\n      <td>1.0</td>\n      <td>1.0</td>\n      <td>1.0</td>\n      <td>1.0</td>\n      <td>1.0</td>\n      <td>0.0</td>\n      <td>1.0</td>\n      <td>1.0</td>\n      <td>1.0</td>\n      <td>Lyme_disease</td>\n    </tr>\n    <tr>\n      <th>3</th>\n      <td>0.0</td>\n      <td>0.0</td>\n      <td>1.0</td>\n      <td>1.0</td>\n      <td>1.0</td>\n      <td>1.0</td>\n      <td>0.0</td>\n      <td>1.0</td>\n      <td>0.0</td>\n      <td>1.0</td>\n      <td>...</td>\n      <td>0.0</td>\n      <td>0.0</td>\n      <td>0.0</td>\n      <td>0.0</td>\n      <td>0.0</td>\n      <td>0.0</td>\n      <td>0.0</td>\n      <td>0.0</td>\n      <td>0.0</td>\n      <td>Zika</td>\n    </tr>\n    <tr>\n      <th>4</th>\n      <td>0.0</td>\n      <td>0.0</td>\n      <td>0.0</td>\n      <td>0.0</td>\n      <td>0.0</td>\n      <td>0.0</td>\n      <td>0.0</td>\n      <td>0.0</td>\n      <td>1.0</td>\n      <td>0.0</td>\n      <td>...</td>\n      <td>0.0</td>\n      <td>1.0</td>\n      <td>0.0</td>\n      <td>0.0</td>\n      <td>1.0</td>\n      <td>1.0</td>\n      <td>1.0</td>\n      <td>0.0</td>\n      <td>0.0</td>\n      <td>Rift_Valley_fever</td>\n    </tr>\n  </tbody>\n</table>\n<p>5 rows × 65 columns</p>\n</div>"
     },
     "execution_count": 3,
     "metadata": {},
     "output_type": "execute_result"
    }
   ],
   "source": [
    "df = pd.read_csv('train.csv', index_col='id')\n",
    "df.head()"
   ],
   "metadata": {
    "collapsed": false,
    "ExecuteTime": {
     "start_time": "2023-05-20T22:12:54.746498Z",
     "end_time": "2023-05-20T22:12:54.891496Z"
    }
   }
  },
  {
   "cell_type": "code",
   "execution_count": 4,
   "outputs": [
    {
     "data": {
      "text/plain": "sudden_fever      0\nheadache          0\nmouth_bleed       0\nnose_bleed        0\nmuscle_pain       0\n                 ..\nulcers            0\ntoenail_loss      0\nspeech_problem    0\nbullseye_rash     0\nprognosis         0\nLength: 65, dtype: int64"
     },
     "execution_count": 4,
     "metadata": {},
     "output_type": "execute_result"
    }
   ],
   "source": [
    "df.isna().sum()"
   ],
   "metadata": {
    "collapsed": false,
    "ExecuteTime": {
     "start_time": "2023-05-20T22:12:54.746498Z",
     "end_time": "2023-05-20T22:12:54.994497Z"
    }
   }
  },
  {
   "cell_type": "code",
   "execution_count": 5,
   "outputs": [
    {
     "name": "stdout",
     "output_type": "stream",
     "text": [
      "<class 'pandas.core.frame.DataFrame'>\n",
      "Index: 707 entries, 0 to 706\n",
      "Data columns (total 65 columns):\n",
      " #   Column                 Non-Null Count  Dtype  \n",
      "---  ------                 --------------  -----  \n",
      " 0   sudden_fever           707 non-null    float64\n",
      " 1   headache               707 non-null    float64\n",
      " 2   mouth_bleed            707 non-null    float64\n",
      " 3   nose_bleed             707 non-null    float64\n",
      " 4   muscle_pain            707 non-null    float64\n",
      " 5   joint_pain             707 non-null    float64\n",
      " 6   vomiting               707 non-null    float64\n",
      " 7   rash                   707 non-null    float64\n",
      " 8   diarrhea               707 non-null    float64\n",
      " 9   hypotension            707 non-null    float64\n",
      " 10  pleural_effusion       707 non-null    float64\n",
      " 11  ascites                707 non-null    float64\n",
      " 12  gastro_bleeding        707 non-null    float64\n",
      " 13  swelling               707 non-null    float64\n",
      " 14  nausea                 707 non-null    float64\n",
      " 15  chills                 707 non-null    float64\n",
      " 16  myalgia                707 non-null    float64\n",
      " 17  digestion_trouble      707 non-null    float64\n",
      " 18  fatigue                707 non-null    float64\n",
      " 19  skin_lesions           707 non-null    float64\n",
      " 20  stomach_pain           707 non-null    float64\n",
      " 21  orbital_pain           707 non-null    float64\n",
      " 22  neck_pain              707 non-null    float64\n",
      " 23  weakness               707 non-null    float64\n",
      " 24  back_pain              707 non-null    float64\n",
      " 25  weight_loss            707 non-null    float64\n",
      " 26  gum_bleed              707 non-null    float64\n",
      " 27  jaundice               707 non-null    float64\n",
      " 28  coma                   707 non-null    float64\n",
      " 29  diziness               707 non-null    float64\n",
      " 30  inflammation           707 non-null    float64\n",
      " 31  red_eyes               707 non-null    float64\n",
      " 32  loss_of_appetite       707 non-null    float64\n",
      " 33  urination_loss         707 non-null    float64\n",
      " 34  slow_heart_rate        707 non-null    float64\n",
      " 35  abdominal_pain         707 non-null    float64\n",
      " 36  light_sensitivity      707 non-null    float64\n",
      " 37  yellow_skin            707 non-null    float64\n",
      " 38  yellow_eyes            707 non-null    float64\n",
      " 39  facial_distortion      707 non-null    float64\n",
      " 40  microcephaly           707 non-null    float64\n",
      " 41  rigor                  707 non-null    float64\n",
      " 42  bitter_tongue          707 non-null    float64\n",
      " 43  convulsion             707 non-null    float64\n",
      " 44  anemia                 707 non-null    float64\n",
      " 45  cocacola_urine         707 non-null    float64\n",
      " 46  hypoglycemia           707 non-null    float64\n",
      " 47  prostraction           707 non-null    float64\n",
      " 48  hyperpyrexia           707 non-null    float64\n",
      " 49  stiff_neck             707 non-null    float64\n",
      " 50  irritability           707 non-null    float64\n",
      " 51  confusion              707 non-null    float64\n",
      " 52  tremor                 707 non-null    float64\n",
      " 53  paralysis              707 non-null    float64\n",
      " 54  lymph_swells           707 non-null    float64\n",
      " 55  breathing_restriction  707 non-null    float64\n",
      " 56  toe_inflammation       707 non-null    float64\n",
      " 57  finger_inflammation    707 non-null    float64\n",
      " 58  lips_irritation        707 non-null    float64\n",
      " 59  itchiness              707 non-null    float64\n",
      " 60  ulcers                 707 non-null    float64\n",
      " 61  toenail_loss           707 non-null    float64\n",
      " 62  speech_problem         707 non-null    float64\n",
      " 63  bullseye_rash          707 non-null    float64\n",
      " 64  prognosis              707 non-null    object \n",
      "dtypes: float64(64), object(1)\n",
      "memory usage: 364.5+ KB\n"
     ]
    }
   ],
   "source": [
    "df.info()"
   ],
   "metadata": {
    "collapsed": false,
    "ExecuteTime": {
     "start_time": "2023-05-20T22:12:54.747498Z",
     "end_time": "2023-05-20T22:12:54.996498Z"
    }
   }
  },
  {
   "cell_type": "code",
   "execution_count": 6,
   "outputs": [
    {
     "data": {
      "text/plain": "(707, 65)"
     },
     "execution_count": 6,
     "metadata": {},
     "output_type": "execute_result"
    }
   ],
   "source": [
    "df.shape"
   ],
   "metadata": {
    "collapsed": false,
    "ExecuteTime": {
     "start_time": "2023-05-20T22:12:54.747498Z",
     "end_time": "2023-05-20T22:12:54.996498Z"
    }
   }
  },
  {
   "cell_type": "markdown",
   "source": [
    "### Train test split"
   ],
   "metadata": {
    "collapsed": false
   }
  },
  {
   "cell_type": "code",
   "execution_count": 7,
   "outputs": [
    {
     "data": {
      "text/plain": "((565, 64), (142, 64), (565,), (142,))"
     },
     "execution_count": 7,
     "metadata": {},
     "output_type": "execute_result"
    }
   ],
   "source": [
    "from sklearn.model_selection import train_test_split\n",
    "X = df.drop('prognosis',axis=1)\n",
    "y = df['prognosis']\n",
    "X_train,X_test,y_train,y_test = train_test_split(X,y,test_size=0.2,random_state=1)\n",
    "X_train.shape,X_test.shape,y_train.shape,y_test.shape"
   ],
   "metadata": {
    "collapsed": false,
    "ExecuteTime": {
     "start_time": "2023-05-20T22:12:54.751497Z",
     "end_time": "2023-05-20T22:12:54.999499Z"
    }
   }
  },
  {
   "cell_type": "markdown",
   "source": [
    "# Model Training"
   ],
   "metadata": {
    "collapsed": false
   }
  },
  {
   "cell_type": "markdown",
   "source": [
    "## Baseline Model"
   ],
   "metadata": {
    "collapsed": false
   }
  },
  {
   "cell_type": "markdown",
   "source": [
    "### Using Dummy Classifier"
   ],
   "metadata": {
    "collapsed": false
   }
  },
  {
   "cell_type": "code",
   "execution_count": 8,
   "outputs": [
    {
     "data": {
      "text/plain": "0.07746478873239436"
     },
     "execution_count": 8,
     "metadata": {},
     "output_type": "execute_result"
    }
   ],
   "source": [
    "from sklearn.dummy import DummyClassifier\n",
    "dc = DummyClassifier(strategy='most_frequent',random_state=1)\n",
    "dc.fit(X_train,y_train)\n",
    "dc.score(X_test,y_test)"
   ],
   "metadata": {
    "collapsed": false,
    "ExecuteTime": {
     "start_time": "2023-05-20T22:12:55.110496Z",
     "end_time": "2023-05-20T22:12:55.239495Z"
    }
   }
  },
  {
   "cell_type": "markdown",
   "source": [
    "### As dummy isnt giving good results we will consider logistic regression as our baseline model"
   ],
   "metadata": {
    "collapsed": false
   }
  },
  {
   "cell_type": "code",
   "execution_count": 9,
   "outputs": [
    {
     "name": "stderr",
     "output_type": "stream",
     "text": [
      "C:\\Users\\Nawap Bastola\\Desktop\\Programming\\Kaggle Comp\\venv\\lib\\site-packages\\sklearn\\linear_model\\_logistic.py:458: ConvergenceWarning: lbfgs failed to converge (status=1):\n",
      "STOP: TOTAL NO. of ITERATIONS REACHED LIMIT.\n",
      "\n",
      "Increase the number of iterations (max_iter) or scale the data as shown in:\n",
      "    https://scikit-learn.org/stable/modules/preprocessing.html\n",
      "Please also refer to the documentation for alternative solver options:\n",
      "    https://scikit-learn.org/stable/modules/linear_model.html#logistic-regression\n",
      "  n_iter_i = _check_optimize_result(\n"
     ]
    },
    {
     "data": {
      "text/plain": "0.2605633802816901"
     },
     "execution_count": 9,
     "metadata": {},
     "output_type": "execute_result"
    }
   ],
   "source": [
    "from sklearn.linear_model import LogisticRegression\n",
    "lr = LogisticRegression(random_state=1)\n",
    "lr.fit(X_train,y_train)\n",
    "lr.score(X_test,y_test)"
   ],
   "metadata": {
    "collapsed": false,
    "ExecuteTime": {
     "start_time": "2023-05-20T22:12:55.112495Z",
     "end_time": "2023-05-20T22:12:55.240495Z"
    }
   }
  },
  {
   "cell_type": "markdown",
   "source": [
    "## Training other models to beat the baseline model"
   ],
   "metadata": {
    "collapsed": false
   }
  },
  {
   "cell_type": "code",
   "execution_count": 10,
   "outputs": [
    {
     "data": {
      "text/plain": "0.3028169014084507"
     },
     "execution_count": 10,
     "metadata": {},
     "output_type": "execute_result"
    }
   ],
   "source": [
    "from xgboost import XGBClassifier\n",
    "from sklearn.preprocessing import LabelEncoder\n",
    "le = LabelEncoder()\n",
    "le.fit(df['prognosis'])\n",
    "xg = XGBClassifier(random_state=1)\n",
    "xg.fit(X_train,le.transform(y_train))\n",
    "xg.score(X_test,le.transform(y_test))"
   ],
   "metadata": {
    "collapsed": false,
    "ExecuteTime": {
     "start_time": "2023-05-20T22:12:55.116495Z",
     "end_time": "2023-05-20T22:12:56.408492Z"
    }
   }
  },
  {
   "cell_type": "code",
   "execution_count": 12,
   "outputs": [
    {
     "data": {
      "text/plain": "0.2605633802816901"
     },
     "execution_count": 12,
     "metadata": {},
     "output_type": "execute_result"
    }
   ],
   "source": [
    "from sklearn.ensemble import GradientBoostingClassifier\n",
    "gbc = GradientBoostingClassifier(random_state=1)\n",
    "gbc.fit(X_train,y_train)\n",
    "gbc.score(X_test,y_test)"
   ],
   "metadata": {
    "collapsed": false,
    "ExecuteTime": {
     "start_time": "2023-05-20T22:13:06.351322Z",
     "end_time": "2023-05-20T22:13:08.301092Z"
    }
   }
  },
  {
   "cell_type": "code",
   "execution_count": 13,
   "outputs": [
    {
     "data": {
      "text/plain": "0.2676056338028169"
     },
     "execution_count": 13,
     "metadata": {},
     "output_type": "execute_result"
    }
   ],
   "source": [
    "from sklearn.ensemble import RandomForestClassifier\n",
    "rfc = RandomForestClassifier(random_state=1)\n",
    "rfc.fit(X_train,y_train)\n",
    "rfc.score(X_test,y_test)"
   ],
   "metadata": {
    "collapsed": false,
    "ExecuteTime": {
     "start_time": "2023-05-20T22:13:08.303093Z",
     "end_time": "2023-05-20T22:13:08.499091Z"
    }
   }
  },
  {
   "cell_type": "markdown",
   "source": [
    "## As XGBoost has the highest accuracy we will finetune XGBoostClassifier"
   ],
   "metadata": {
    "collapsed": false
   }
  },
  {
   "cell_type": "code",
   "execution_count": 19,
   "outputs": [
    {
     "name": "stdout",
     "output_type": "stream",
     "text": [
      "Best Hyperparameters: {'subsample': 0.8, 'n_estimators': 100, 'max_depth': 3, 'learning_rate': 0.01, 'gamma': 0.1, 'colsample_bytree': 1.0}\n",
      "Best Score (Accuracy): 0.30619469026548674\n"
     ]
    }
   ],
   "source": [
    "from sklearn.model_selection import RandomizedSearchCV\n",
    "\n",
    "# Define the hyperparameter grid\n",
    "param_grid = {\n",
    "    'n_estimators': [100, 500, 1000],\n",
    "    'learning_rate': [0.01, 0.1, 1.0],\n",
    "    'max_depth': [3, 5, 7],\n",
    "    'subsample': [0.6, 0.8, 1.0],\n",
    "    'colsample_bytree': [0.6, 0.8, 1.0],\n",
    "    'gamma': [0, 0.1, 0.5, 1.0]\n",
    "}\n",
    "\n",
    "# Create an instance of the XGBoostClassifier\n",
    "model = XGBClassifier(random_state=1)\n",
    "\n",
    "# Perform hyperparameter search using RandomizedSearchCV\n",
    "random_search = RandomizedSearchCV(model, param_distributions=param_grid, n_iter=10, cv=5, scoring='accuracy')\n",
    "random_search.fit(X_train, le.transform(y_train))\n",
    "\n",
    "# Get the best hyperparameters and their corresponding score\n",
    "best_params = random_search.best_params_\n",
    "best_score = random_search.best_score_\n",
    "\n",
    "print(\"Best Hyperparameters:\", best_params)\n",
    "print(\"Best Score (Accuracy):\", best_score)\n"
   ],
   "metadata": {
    "collapsed": false,
    "ExecuteTime": {
     "start_time": "2023-05-20T22:23:42.177616Z",
     "end_time": "2023-05-20T22:25:31.481754Z"
    }
   }
  },
  {
   "cell_type": "markdown",
   "source": [
    "# Finetuned Model"
   ],
   "metadata": {
    "collapsed": false
   }
  },
  {
   "cell_type": "code",
   "execution_count": 20,
   "outputs": [
    {
     "data": {
      "text/plain": "0.30985915492957744"
     },
     "execution_count": 20,
     "metadata": {},
     "output_type": "execute_result"
    }
   ],
   "source": [
    "xg_tuned = XGBClassifier(subsample=0.8, n_estimators=100, max_depth=3, learning_rate=0.01,gamma=0.1,colsample_bytree=1,random_state=1)\n",
    "xg_tuned.fit(X_train,le.transform(y_train))\n",
    "xg_tuned.score(X_test,le.transform(y_test))"
   ],
   "metadata": {
    "collapsed": false,
    "ExecuteTime": {
     "start_time": "2023-05-20T22:26:15.877025Z",
     "end_time": "2023-05-20T22:26:16.388023Z"
    }
   }
  },
  {
   "cell_type": "markdown",
   "source": [
    "# Evaluation"
   ],
   "metadata": {
    "collapsed": false
   }
  },
  {
   "cell_type": "code",
   "execution_count": 22,
   "outputs": [
    {
     "data": {
      "text/plain": "'              precision    recall  f1-score   support\\n\\n           0       0.59      0.87      0.70        15\\n           1       0.33      0.12      0.17        17\\n           2       0.13      0.15      0.14        13\\n           3       0.43      0.27      0.33        11\\n           4       0.71      0.38      0.50        13\\n           5       0.25      0.08      0.12        12\\n           6       0.33      0.18      0.24        11\\n           7       0.35      0.67      0.46        12\\n           8       0.10      0.18      0.12        11\\n           9       0.21      0.67      0.32         9\\n          10       0.00      0.00      0.00        18\\n\\n    accuracy                           0.31       142\\n   macro avg       0.31      0.33      0.28       142\\nweighted avg       0.31      0.31      0.28       142\\n'"
     },
     "execution_count": 22,
     "metadata": {},
     "output_type": "execute_result"
    }
   ],
   "source": [
    "from sklearn.metrics import classification_report\n",
    "\n",
    "classification_report(le.transform(y_test),xg_tuned.predict(X_test))"
   ],
   "metadata": {
    "collapsed": false,
    "ExecuteTime": {
     "start_time": "2023-05-20T22:29:04.530419Z",
     "end_time": "2023-05-20T22:29:04.564420Z"
    }
   }
  },
  {
   "cell_type": "code",
   "execution_count": null,
   "outputs": [],
   "source": [],
   "metadata": {
    "collapsed": false
   }
  }
 ],
 "metadata": {
  "kernelspec": {
   "display_name": "Python 3",
   "language": "python",
   "name": "python3"
  },
  "language_info": {
   "codemirror_mode": {
    "name": "ipython",
    "version": 2
   },
   "file_extension": ".py",
   "mimetype": "text/x-python",
   "name": "python",
   "nbconvert_exporter": "python",
   "pygments_lexer": "ipython2",
   "version": "2.7.6"
  }
 },
 "nbformat": 4,
 "nbformat_minor": 0
}
